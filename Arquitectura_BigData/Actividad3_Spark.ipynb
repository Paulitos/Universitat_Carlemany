{
  "nbformat": 4,
  "nbformat_minor": 0,
  "metadata": {
    "colab": {
      "provenance": []
    },
    "kernelspec": {
      "name": "python3",
      "display_name": "Python 3"
    },
    "language_info": {
      "name": "python"
    }
  },
  "cells": [
    {
      "cell_type": "code",
      "execution_count": 4,
      "metadata": {
        "colab": {
          "base_uri": "https://localhost:8080/"
        },
        "id": "XnTxtNs8ijKK",
        "outputId": "cd44b153-4c1e-4ffa-80bf-f98cdb149858"
      },
      "outputs": [
        {
          "output_type": "stream",
          "name": "stdout",
          "text": [
            "+----------------------------------------------+-------+-----+----+\n",
            "|libro                                         |palabra|count|rank|\n",
            "+----------------------------------------------+-------+-----+----+\n",
            "|file:///content/libros/don_quijote.txt        |que    |20767|1   |\n",
            "|file:///content/libros/don_quijote.txt        |de     |18411|2   |\n",
            "|file:///content/libros/don_quijote.txt        |y      |18271|3   |\n",
            "|file:///content/libros/don_quijote.txt        |la     |10492|4   |\n",
            "|file:///content/libros/don_quijote.txt        |a      |9933 |5   |\n",
            "|file:///content/libros/la_celestina.txt       |que    |4293 |1   |\n",
            "|file:///content/libros/la_celestina.txt       |de     |4187 |2   |\n",
            "|file:///content/libros/la_celestina.txt       |e      |2297 |3   |\n",
            "|file:///content/libros/la_celestina.txt       |la     |2253 |4   |\n",
            "|file:///content/libros/la_celestina.txt       |a      |1922 |5   |\n",
            "|file:///content/libros/lazarillo_de_tormes.txt|y      |1154 |1   |\n",
            "|file:///content/libros/lazarillo_de_tormes.txt|que    |901  |2   |\n",
            "|file:///content/libros/lazarillo_de_tormes.txt|de     |771  |3   |\n",
            "|file:///content/libros/lazarillo_de_tormes.txt|a      |542  |4   |\n",
            "|file:///content/libros/lazarillo_de_tormes.txt|la     |529  |5   |\n",
            "+----------------------------------------------+-------+-----+----+\n",
            "\n"
          ]
        }
      ],
      "source": [
        "from pyspark.sql import SparkSession\n",
        "from pyspark.sql.functions import input_file_name, col, split, lower, regexp_replace, explode, count\n",
        "from pyspark.sql.window import Window\n",
        "from pyspark.sql.functions import row_number\n",
        "\n",
        "# Iniciar la sesión de Spark\n",
        "spark = SparkSession.builder.master(\"local[*]\").appName(\"LibrosSpark\").getOrCreate()\n",
        "\n",
        "# Leer todos los archivos de texto en un DataFrame\n",
        "libros_df = spark.read.text(\"/content/libros/*\")\n",
        "\n",
        "# Añadir una columna con el nombre del archivo de origen\n",
        "libros_df = libros_df.withColumn(\"libro\", input_file_name())\n",
        "\n",
        "# Convertir texto a minúsculas, quitar símbolos, y separar en palabras\n",
        "libros_df = libros_df.select(\"libro\",\n",
        "                             split(lower(regexp_replace(col(\"value\"), r'[^a-zA-Záéíóúñü\\s]', '')), r'\\s+')\n",
        "                             .alias(\"palabras\"))\n",
        "\n",
        "# Explode para tener una palabra por fila y filtrar palabras vacías\n",
        "libros_df = libros_df.select(\"libro\", explode(col(\"palabras\")).alias(\"palabra\")).filter(col(\"palabra\") != \"\")\n",
        "\n",
        "# Contar las ocurrencias de cada palabra por libro\n",
        "conteo_df = libros_df.groupBy(\"libro\", \"palabra\").count()\n",
        "\n",
        "# Definir la ventana de ordenamiento por conteo y libro\n",
        "window = Window.partitionBy(\"libro\").orderBy(col(\"count\").desc())\n",
        "\n",
        "# Agregar la columna de ranking y filtrar para obtener las 5 palabras más frecuentes por libro\n",
        "top_5_palabras_df = conteo_df.withColumn(\"rank\", row_number().over(window)).filter(col(\"rank\") <= 5)\n",
        "\n",
        "# Mostrar el resultado\n",
        "top_5_palabras_df.show(truncate=False)\n",
        "\n",
        "# Detener la sesión de Spark\n",
        "spark.stop()"
      ]
    }
  ]
}