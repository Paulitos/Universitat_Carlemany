{
  "nbformat": 4,
  "nbformat_minor": 0,
  "metadata": {
    "colab": {
      "provenance": []
    },
    "kernelspec": {
      "name": "python3",
      "display_name": "Python 3"
    },
    "language_info": {
      "name": "python"
    }
  },
  "cells": [
    {
      "cell_type": "markdown",
      "source": [
        "**1. Programar un algoritmo de multiplicación de matrices cuadradas de igual tamaño. Las matrices se generarán de forma aleatoria mediante la función numpy.random.rand. La multiplicación de matrices debe realizarse en python puro, sin utilizar las funciones de numpy.**"
      ],
      "metadata": {
        "id": "9GwWdh-pCChO"
      }
    },
    {
      "cell_type": "code",
      "execution_count": 18,
      "metadata": {
        "colab": {
          "base_uri": "https://localhost:8080/"
        },
        "id": "yM_ottmXB9Ti",
        "outputId": "b184d611-de0e-406e-b8f7-e73b4a7e4434"
      },
      "outputs": [
        {
          "output_type": "stream",
          "name": "stdout",
          "text": [
            "Matriz 1:\n",
            "[0.5569335251967981, 0.8714711368184132, 0.5857809783164213]\n",
            "[0.43284614116485576, 0.46299707620073893, 0.11739478636461143]\n",
            "[0.15045348063781738, 0.9234283119657394, 0.733795311391338]\n",
            "\n",
            "Matriz 2:\n",
            "[0.052589452446539786, 0.18044473408648232, 0.8084973847321417]\n",
            "[0.2706214526538223, 0.3156797389552649, 0.9140403388679231]\n",
            "[0.4996522882339328, 0.9729327041278393, 0.6735577534053574]\n",
            "\n",
            "Resultado de la multiplicación:\n",
            "[0.5578144203506094, 0.9455269740959151, 1.6413963915447811]\n",
            "[0.20671665652718565, 0.33848082994318396, 0.852225146113816]\n",
            "[0.6244542838032676, 1.0325896033596265, 1.4599454942090562]\n"
          ]
        }
      ],
      "source": [
        "import numpy as np\n",
        "\n",
        "def generar_matriz_aleatoria(tamaño):\n",
        "    \"\"\"\n",
        "    Genera una matriz cuadrada de tamaño dado con valores aleatorios entre 0 y 1.\n",
        "    \"\"\"\n",
        "    return np.random.rand(tamaño, tamaño)\n",
        "\n",
        "def multiplicar_matrices(matriz1, matriz2):\n",
        "    \"\"\"\n",
        "    Multiplica dos matrices cuadradas de igual tamaño sin usar numpy.\n",
        "    \"\"\"\n",
        "    tamaño = len(matriz1)\n",
        "    resultado = [[0] * tamaño for _ in range(tamaño)]\n",
        "\n",
        "    # Realizar la multiplicación de matrices\n",
        "    for i in range(tamaño):\n",
        "        for j in range(tamaño):\n",
        "            for k in range(tamaño):\n",
        "                resultado[i][j] += matriz1[i][k] * matriz2[k][j]\n",
        "\n",
        "    return resultado\n",
        "\n",
        "# Parámetros\n",
        "tamaño = 3  # Cambia el tamaño de la matriz según sea necesario\n",
        "\n",
        "# Generar matrices aleatorias\n",
        "matriz1 = generar_matriz_aleatoria(tamaño)\n",
        "matriz2 = generar_matriz_aleatoria(tamaño)\n",
        "\n",
        "# Convertir las matrices de numpy a listas de listas para la multiplicación\n",
        "matriz1_lista = matriz1.tolist()\n",
        "matriz2_lista = matriz2.tolist()\n",
        "\n",
        "# Multiplicar las matrices\n",
        "resultado = multiplicar_matrices(matriz1_lista, matriz2_lista)\n",
        "\n",
        "# Imprimir las matrices y el resultado\n",
        "print(\"Matriz 1:\")\n",
        "for fila in matriz1_lista:\n",
        "    print(fila)\n",
        "\n",
        "print(\"\\nMatriz 2:\")\n",
        "for fila in matriz2_lista:\n",
        "    print(fila)\n",
        "\n",
        "print(\"\\nResultado de la multiplicación:\")\n",
        "for fila in resultado:\n",
        "    print(fila)"
      ]
    },
    {
      "cell_type": "markdown",
      "source": [
        "**2. Realizar una versión por bloques del anterior algoritmo. Las matrices se deben generar teniendo en cuenta dos parámetros: “cantidad de bloques” (N) y “medida de los bloques” (M). Siguiendo esta lógica, cada matriz estará compuesta por NxN bloques de MxM unidades. Cada operación que se desee ejecutar en paralelo debe ejecutarse dentro de una función. Estos parámetros han de ser fácilmente configurables.**"
      ],
      "metadata": {
        "id": "mIjr703SCaNG"
      }
    },
    {
      "cell_type": "code",
      "source": [
        "def generar_matriz_aleatoria_por_bloques(N, M):\n",
        "    \"\"\"\n",
        "    Genera una matriz NxN bloques de MxM unidades con valores aleatorios entre 0 y 1.\n",
        "    \"\"\"\n",
        "    return np.random.rand(N * M, N * M)\n",
        "\n",
        "def multiplicar_bloques(matriz1, matriz2, N, M):\n",
        "    \"\"\"\n",
        "    Multiplica matrices usando el enfoque por bloques.\n",
        "    \"\"\"\n",
        "    tamaño = N * M\n",
        "    resultado = [[0] * tamaño for _ in range(tamaño)]\n",
        "\n",
        "    for bi in range(N):\n",
        "        for bj in range(N):\n",
        "            for bk in range(N):\n",
        "                # Multiplicar el bloque (bi, bk) de matriz1 con el bloque (bk, bj) de matriz2\n",
        "                for i in range(M):\n",
        "                    for j in range(M):\n",
        "                        for k in range(M):\n",
        "                            resultado[bi*M + i][bj*M + j] += matriz1[bi*M + i][bk*M + k] * matriz2[bk*M + k][bj*M + j]\n",
        "\n",
        "    return resultado\n",
        "\n",
        "# Parámetros\n",
        "N = 2  # Número de bloques\n",
        "M = 2  # Tamaño de cada bloque\n",
        "\n",
        "# Generar matrices aleatorias por bloques\n",
        "matriz1 = generar_matriz_aleatoria_por_bloques(N, M)\n",
        "matriz2 = generar_matriz_aleatoria_por_bloques(N, M)\n",
        "\n",
        "# Convertir las matrices de numpy a listas de listas para la multiplicación\n",
        "matriz1_lista = matriz1.tolist()\n",
        "matriz2_lista = matriz2.tolist()\n",
        "\n",
        "# Multiplicar las matrices por bloques\n",
        "resultado = multiplicar_bloques(matriz1_lista, matriz2_lista, N, M)\n",
        "\n",
        "# Imprimir las matrices y el resultado\n",
        "print(\"Matriz 1:\")\n",
        "for fila in matriz1_lista:\n",
        "    print(fila)\n",
        "\n",
        "print(\"\\nMatriz 2:\")\n",
        "for fila in matriz2_lista:\n",
        "    print(fila)\n",
        "\n",
        "print(\"\\nResultado de la multiplicación:\")\n",
        "for fila in resultado:\n",
        "    print(fila)"
      ],
      "metadata": {
        "colab": {
          "base_uri": "https://localhost:8080/"
        },
        "id": "mtXQf1YiC3p8",
        "outputId": "dd6b3080-4cea-4936-9d72-e71de0b4c81f"
      },
      "execution_count": 2,
      "outputs": [
        {
          "output_type": "stream",
          "name": "stdout",
          "text": [
            "Matriz 1:\n",
            "[0.07368067392773159, 0.568656169013507, 0.6923962818312416, 0.22843017069321325]\n",
            "[0.4537727073772104, 0.1934571091621874, 0.26303365817345903, 0.2504001876060584]\n",
            "[0.9820869178340577, 0.354617187614927, 0.5158483216239732, 0.4882846323441635]\n",
            "[0.19960047507114864, 0.356679219412936, 0.2615320505830151, 0.8919948285622803]\n",
            "\n",
            "Matriz 2:\n",
            "[0.8906695374328517, 0.9545773167504982, 0.1304780366177083, 0.7247827453772269]\n",
            "[0.7043512039925688, 0.7390781834934741, 0.699648087613977, 0.1549859119738125]\n",
            "[0.15046884275656536, 0.5078879408501127, 0.9978659577786754, 0.45387220721470845]\n",
            "[0.42075810330055574, 0.7691659625108221, 0.45166594762343804, 0.5778824712099756]\n",
            "\n",
            "Resultado de la multiplicación:\n",
            "[0.666456701681013, 1.0179757023804634, 1.2015657192748102, 0.587801396325792]\n",
            "[0.6853595532932362, 0.9023319865831296, 0.5701288396513975, 0.6229553013336081]\n",
            "[1.4075587596477628, 1.8371327827766344, 1.1115370306802719, 1.2830606670472906]\n",
            "[0.8436719776503758, 1.273068950991822, 0.9394510315117819, 0.8341175392950783]\n"
          ]
        }
      ]
    },
    {
      "cell_type": "markdown",
      "source": [
        "**3.  Realizar un test para verificar que los resultados de los algoritmos 1 y 2 son iguales. Para unir una matriz en bloques en un solo elemento numpy se puede utilizar la función numpy.block. Así se puede utilizar el código del punto 1 en el punto 3. En el test se puede utilizar la función np.dot**"
      ],
      "metadata": {
        "id": "lyEaSuESDBJK"
      }
    },
    {
      "cell_type": "code",
      "source": [
        "def generar_matriz_aleatoria(tamaño):\n",
        "    \"\"\"\n",
        "    Genera una matriz cuadrada de tamaño dado con valores aleatorios entre 0 y 1.\n",
        "    \"\"\"\n",
        "    return np.random.rand(tamaño, tamaño)\n",
        "\n",
        "def multiplicar_matrices(matriz1, matriz2):\n",
        "    \"\"\"\n",
        "    Multiplica dos matrices cuadradas de igual tamaño sin usar numpy.\n",
        "    \"\"\"\n",
        "    tamaño = len(matriz1)\n",
        "    resultado = [[0] * tamaño for _ in range(tamaño)]\n",
        "\n",
        "    for i in range(tamaño):\n",
        "        for j in range(tamaño):\n",
        "            for k in range(tamaño):\n",
        "                resultado[i][j] += matriz1[i][k] * matriz2[k][j]\n",
        "\n",
        "    return resultado\n",
        "\n",
        "def generar_matriz_aleatoria_por_bloques(N, M):\n",
        "    \"\"\"\n",
        "    Genera una matriz NxN bloques de MxM unidades con valores aleatorios entre 0 y 1.\n",
        "    \"\"\"\n",
        "    return np.random.rand(N * M, N * M)\n",
        "\n",
        "def multiplicar_bloques(matriz1, matriz2, N, M):\n",
        "    \"\"\"\n",
        "    Multiplica matrices usando el enfoque por bloques.\n",
        "    \"\"\"\n",
        "    tamaño = N * M\n",
        "    resultado = [[0] * tamaño for _ in range(tamaño)]\n",
        "\n",
        "    for bi in range(N):\n",
        "        for bj in range(N):\n",
        "            for bk in range(N):\n",
        "                for i in range(M):\n",
        "                    for j in range(M):\n",
        "                        for k in range(M):\n",
        "                            resultado[bi*M + i][bj*M + j] += matriz1[bi*M + i][bk*M + k] * matriz2[bk*M + k][bj*M + j]\n",
        "\n",
        "    return resultado\n",
        "\n",
        "def test_multiplicacion():\n",
        "    # Parámetros\n",
        "    N = 2  # Número de bloques\n",
        "    M = 2  # Tamaño de cada bloque\n",
        "    tamaño = N * M\n",
        "\n",
        "    # Generar matrices aleatorias\n",
        "    matriz1 = generar_matriz_aleatoria(tamaño)\n",
        "    matriz2 = generar_matriz_aleatoria(tamaño)\n",
        "\n",
        "    # Convertir las matrices de numpy a listas de listas para la multiplicación clásica\n",
        "    matriz1_lista = matriz1.tolist()\n",
        "    matriz2_lista = matriz2.tolist()\n",
        "\n",
        "    # Multiplicar las matrices utilizando el algoritmo clásico\n",
        "    resultado_clasico = multiplicar_matrices(matriz1_lista, matriz2_lista)\n",
        "\n",
        "    # Convertir el resultado clásico a numpy para comparación\n",
        "    resultado_clasico_np = np.array(resultado_clasico)\n",
        "\n",
        "    # Multiplicar las matrices utilizando el algoritmo por bloques\n",
        "    matriz1_bloques = matriz1.tolist()\n",
        "    matriz2_bloques = matriz2.tolist()\n",
        "    resultado_bloques = multiplicar_bloques(matriz1_bloques, matriz2_bloques, N, M)\n",
        "\n",
        "    # Convertir el resultado por bloques a numpy para comparación\n",
        "    resultado_bloques_np = np.array(resultado_bloques)\n",
        "\n",
        "    # Usar np.allclose para comparar las matrices resultantes\n",
        "    if np.allclose(resultado_clasico_np, resultado_bloques_np):\n",
        "        print(\"Los resultados de ambas multiplicaciones son iguales.\")\n",
        "    else:\n",
        "        print(\"Los resultados de ambas multiplicaciones son diferentes.\")\n",
        "\n",
        "    # Imprimir resultados para verificación\n",
        "    print(\"\\nResultado usando el algoritmo clásico:\")\n",
        "    print(resultado_clasico_np)\n",
        "\n",
        "    print(\"\\nResultado usando el algoritmo por bloques:\")\n",
        "    print(resultado_bloques_np)\n",
        "\n",
        "# Ejecutar el test\n",
        "test_multiplicacion()"
      ],
      "metadata": {
        "colab": {
          "base_uri": "https://localhost:8080/"
        },
        "id": "3Qw3tmVWDYai",
        "outputId": "9de0ae4c-74c4-48c3-cb5b-b173628eded3"
      },
      "execution_count": 3,
      "outputs": [
        {
          "output_type": "stream",
          "name": "stdout",
          "text": [
            "Los resultados de ambas multiplicaciones son iguales.\n",
            "\n",
            "Resultado usando el algoritmo clásico:\n",
            "[[0.61688302 1.42051726 1.55957869 1.29991244]\n",
            " [0.34801874 1.11821099 1.18338243 0.8544941 ]\n",
            " [0.43856449 1.43940743 1.1420602  1.08590491]\n",
            " [0.64208713 1.4890366  1.7315707  1.36256459]]\n",
            "\n",
            "Resultado usando el algoritmo por bloques:\n",
            "[[0.61688302 1.42051726 1.55957869 1.29991244]\n",
            " [0.34801874 1.11821099 1.18338243 0.8544941 ]\n",
            " [0.43856449 1.43940743 1.1420602  1.08590491]\n",
            " [0.64208713 1.4890366  1.7315707  1.36256459]]\n"
          ]
        }
      ]
    }
  ]
}